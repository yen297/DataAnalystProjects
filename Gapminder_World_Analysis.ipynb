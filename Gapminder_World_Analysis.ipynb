{
 "cells": [
  {
   "cell_type": "markdown",
   "metadata": {},
   "source": [
    "\n",
    "# Project: Investigate a Dataset - Gapminder World\n",
    "\n",
    "\n",
    "\n",
    "## Table of Contents\n",
    "<ul>\n",
    "<li><a href=\"#intro\">Introduction</a></li>\n",
    "<li><a href=\"#wrangling\">Data Wrangling</a></li>\n",
    "<li><a href=\"#eda\">Exploratory Data Analysis</a></li>\n",
    "<li><a href=\"#conclusions\">Conclusions</a></li>\n",
    "</ul>"
   ]
  },
  {
   "cell_type": "markdown",
   "metadata": {},
   "source": [
    "<a id='intro'></a>\n",
    "## Introduction\n",
    "\n",
    "### Dataset Description \n",
    "> In this project I will analyze Income per person between 1980 and 2015 and GDP contribution (%) of agriculture, industry, service sectors and life expectancy in 2015 of the world.\n",
    "\n",
    "### Question(s) for Analysis\n",
    ">1. Which region has the highest income per person? \n",
    "\n",
    ">2. Which country has change the most in terms of income?\n",
    "\n",
    ">3. What are the characteristics of high income countries?\n",
    "\n",
    ">4. Do countries with higher income live longer?\n",
    "\n",
    ">5. Do countries with higher income rely more on service?"
   ]
  },
  {
   "cell_type": "markdown",
   "metadata": {},
   "source": [
    "<a id='wrangling'></a>\n",
    "## Data Wrangling\n",
    "\n",
    "\n",
    "\n",
    "### General Properties"
   ]
  },
  {
   "cell_type": "code",
   "execution_count": 1,
   "metadata": {},
   "outputs": [],
   "source": [
    "# Import packages\n",
    "import pandas as pd\n",
    "import matplotlib.pyplot as plt\n",
    "%matplotlib inline\n",
    "import seaborn as sb"
   ]
  },
  {
   "cell_type": "code",
   "execution_count": 2,
   "metadata": {
    "scrolled": true
   },
   "outputs": [
    {
     "name": "stdout",
     "output_type": "stream",
     "text": [
      "<class 'pandas.core.frame.DataFrame'>\n",
      "RangeIndex: 195 entries, 0 to 194\n",
      "Data columns (total 3 columns):\n",
      " #   Column   Non-Null Count  Dtype \n",
      "---  ------   --------------  ----- \n",
      " 0   country  195 non-null    object\n",
      " 1   1980     195 non-null    object\n",
      " 2   2015     195 non-null    object\n",
      "dtypes: object(3)\n",
      "memory usage: 4.7+ KB\n"
     ]
    }
   ],
   "source": [
    "#Get gdp data in 1980 and 2015 of the world\n",
    "df_gdp = pd.read_csv('income_per_person_gdppercapita_ppp_inflation_adjusted.csv')\n",
    "df_gdp=df_gdp[['country','1980', '2015']]\n",
    "df_gdp.info()"
   ]
  },
  {
   "cell_type": "code",
   "execution_count": 3,
   "metadata": {},
   "outputs": [
    {
     "name": "stdout",
     "output_type": "stream",
     "text": [
      "<class 'pandas.core.frame.DataFrame'>\n",
      "RangeIndex: 273 entries, 0 to 272\n",
      "Data columns (total 3 columns):\n",
      " #   Column          Non-Null Count  Dtype \n",
      "---  ------          --------------  ----- \n",
      " 0   income_3groups  218 non-null    object\n",
      " 1   name            273 non-null    object\n",
      " 2   world_4region   271 non-null    object\n",
      "dtypes: object(3)\n",
      "memory usage: 6.5+ KB\n"
     ]
    }
   ],
   "source": [
    "# Get income groups and regions of countries\n",
    "df = pd.read_csv('ddf--entities--geo--country.csv')\n",
    "df=df[['income_3groups', 'name', 'world_4region']]\n",
    "df.info()"
   ]
  },
  {
   "cell_type": "code",
   "execution_count": 4,
   "metadata": {},
   "outputs": [
    {
     "name": "stdout",
     "output_type": "stream",
     "text": [
      "<class 'pandas.core.frame.DataFrame'>\n",
      "RangeIndex: 195 entries, 0 to 194\n",
      "Data columns (total 2 columns):\n",
      " #   Column   Non-Null Count  Dtype  \n",
      "---  ------   --------------  -----  \n",
      " 0   country  195 non-null    object \n",
      " 1   2015     195 non-null    float64\n",
      "dtypes: float64(1), object(1)\n",
      "memory usage: 3.2+ KB\n"
     ]
    }
   ],
   "source": [
    "#Get life expectancy data in 2015 of the world\n",
    "df_life = pd.read_csv('life_expectancy_years.csv')\n",
    "df_life = df_life[['country', '2015']]\n",
    "df_life.info()"
   ]
  },
  {
   "cell_type": "code",
   "execution_count": 5,
   "metadata": {},
   "outputs": [
    {
     "name": "stdout",
     "output_type": "stream",
     "text": [
      "<class 'pandas.core.frame.DataFrame'>\n",
      "RangeIndex: 197 entries, 0 to 196\n",
      "Data columns (total 2 columns):\n",
      " #   Column   Non-Null Count  Dtype  \n",
      "---  ------   --------------  -----  \n",
      " 0   country  197 non-null    object \n",
      " 1   2015     193 non-null    float64\n",
      "dtypes: float64(1), object(1)\n",
      "memory usage: 3.2+ KB\n"
     ]
    }
   ],
   "source": [
    "df_service = pd.read_csv('services_percent_of_gdp.csv')\n",
    "df_service = df_service[['country', '2015']]\n",
    "df_service.info()"
   ]
  },
  {
   "cell_type": "code",
   "execution_count": 6,
   "metadata": {},
   "outputs": [
    {
     "name": "stdout",
     "output_type": "stream",
     "text": [
      "<class 'pandas.core.frame.DataFrame'>\n",
      "RangeIndex: 204 entries, 0 to 203\n",
      "Data columns (total 2 columns):\n",
      " #   Column   Non-Null Count  Dtype  \n",
      "---  ------   --------------  -----  \n",
      " 0   country  204 non-null    object \n",
      " 1   2015     196 non-null    float64\n",
      "dtypes: float64(1), object(1)\n",
      "memory usage: 3.3+ KB\n"
     ]
    }
   ],
   "source": [
    "df_industry = pd.read_csv('industry_percent_of_gdp.csv')\n",
    "df_industry = df_industry[['country', '2015']]\n",
    "df_industry.info()"
   ]
  },
  {
   "cell_type": "code",
   "execution_count": 7,
   "metadata": {},
   "outputs": [
    {
     "name": "stdout",
     "output_type": "stream",
     "text": [
      "<class 'pandas.core.frame.DataFrame'>\n",
      "RangeIndex: 205 entries, 0 to 204\n",
      "Data columns (total 2 columns):\n",
      " #   Column   Non-Null Count  Dtype  \n",
      "---  ------   --------------  -----  \n",
      " 0   country  205 non-null    object \n",
      " 1   2015     194 non-null    float64\n",
      "dtypes: float64(1), object(1)\n",
      "memory usage: 3.3+ KB\n"
     ]
    }
   ],
   "source": [
    "df_agri = pd.read_csv('agriculture_percent_of_gdp.csv')\n",
    "df_agri = df_agri[['country', '2015']]\n",
    "df_agri.info()"
   ]
  },
  {
   "cell_type": "markdown",
   "metadata": {},
   "source": [
    "\n",
    "### Data Cleaning\n",
    " "
   ]
  },
  {
   "cell_type": "code",
   "execution_count": 8,
   "metadata": {},
   "outputs": [
    {
     "name": "stdout",
     "output_type": "stream",
     "text": [
      "<class 'pandas.core.frame.DataFrame'>\n",
      "RangeIndex: 195 entries, 0 to 194\n",
      "Data columns (total 3 columns):\n",
      " #   Column    Non-Null Count  Dtype \n",
      "---  ------    --------------  ----- \n",
      " 0   country   195 non-null    object\n",
      " 1   gdp_1980  195 non-null    string\n",
      " 2   gdp_2015  195 non-null    string\n",
      "dtypes: object(1), string(2)\n",
      "memory usage: 4.7+ KB\n"
     ]
    }
   ],
   "source": [
    "# Rename columns and change datatype of columns in df_gdp\n",
    "df_gdp.rename(columns = {'1980': 'gdp_1980', '2015': 'gdp_2015'}, inplace = True)\n",
    "df_gdp.astype({'gdp_1980': 'string', 'gdp_2015': 'string'}).info()"
   ]
  },
  {
   "cell_type": "code",
   "execution_count": 9,
   "metadata": {
    "scrolled": true
   },
   "outputs": [
    {
     "data": {
      "text/html": [
       "<div>\n",
       "<style scoped>\n",
       "    .dataframe tbody tr th:only-of-type {\n",
       "        vertical-align: middle;\n",
       "    }\n",
       "\n",
       "    .dataframe tbody tr th {\n",
       "        vertical-align: top;\n",
       "    }\n",
       "\n",
       "    .dataframe thead th {\n",
       "        text-align: right;\n",
       "    }\n",
       "</style>\n",
       "<table border=\"1\" class=\"dataframe\">\n",
       "  <thead>\n",
       "    <tr style=\"text-align: right;\">\n",
       "      <th></th>\n",
       "      <th>country</th>\n",
       "      <th>gdp_1980</th>\n",
       "      <th>gdp_2015</th>\n",
       "    </tr>\n",
       "  </thead>\n",
       "  <tbody>\n",
       "    <tr>\n",
       "      <th>0</th>\n",
       "      <td>Afghanistan</td>\n",
       "      <td>1170.0</td>\n",
       "      <td>2070.0</td>\n",
       "    </tr>\n",
       "    <tr>\n",
       "      <th>1</th>\n",
       "      <td>Angola</td>\n",
       "      <td>1760.0</td>\n",
       "      <td>8040.0</td>\n",
       "    </tr>\n",
       "    <tr>\n",
       "      <th>2</th>\n",
       "      <td>Albania</td>\n",
       "      <td>4470.0</td>\n",
       "      <td>11900.0</td>\n",
       "    </tr>\n",
       "    <tr>\n",
       "      <th>3</th>\n",
       "      <td>Andorra</td>\n",
       "      <td>35800.0</td>\n",
       "      <td>52100.0</td>\n",
       "    </tr>\n",
       "    <tr>\n",
       "      <th>4</th>\n",
       "      <td>United Arab Emirates</td>\n",
       "      <td>93500.0</td>\n",
       "      <td>65200.0</td>\n",
       "    </tr>\n",
       "    <tr>\n",
       "      <th>5</th>\n",
       "      <td>Argentina</td>\n",
       "      <td>17000.0</td>\n",
       "      <td>23900.0</td>\n",
       "    </tr>\n",
       "    <tr>\n",
       "      <th>6</th>\n",
       "      <td>Armenia</td>\n",
       "      <td>6880.0</td>\n",
       "      <td>11300.0</td>\n",
       "    </tr>\n",
       "    <tr>\n",
       "      <th>7</th>\n",
       "      <td>Antigua and Barbuda</td>\n",
       "      <td>7910.0</td>\n",
       "      <td>18600.0</td>\n",
       "    </tr>\n",
       "    <tr>\n",
       "      <th>8</th>\n",
       "      <td>Australia</td>\n",
       "      <td>26200.0</td>\n",
       "      <td>47800.0</td>\n",
       "    </tr>\n",
       "    <tr>\n",
       "      <th>9</th>\n",
       "      <td>Austria</td>\n",
       "      <td>28800.0</td>\n",
       "      <td>53000.0</td>\n",
       "    </tr>\n",
       "  </tbody>\n",
       "</table>\n",
       "</div>"
      ],
      "text/plain": [
       "                country  gdp_1980  gdp_2015\n",
       "0           Afghanistan    1170.0    2070.0\n",
       "1                Angola    1760.0    8040.0\n",
       "2               Albania    4470.0   11900.0\n",
       "3               Andorra   35800.0   52100.0\n",
       "4  United Arab Emirates   93500.0   65200.0\n",
       "5             Argentina   17000.0   23900.0\n",
       "6               Armenia    6880.0   11300.0\n",
       "7   Antigua and Barbuda    7910.0   18600.0\n",
       "8             Australia   26200.0   47800.0\n",
       "9               Austria   28800.0   53000.0"
      ]
     },
     "execution_count": 9,
     "metadata": {},
     "output_type": "execute_result"
    }
   ],
   "source": [
    "# Change datatype of GDP to float to perform calculation later\n",
    "def convert(value):\n",
    "    if value:\n",
    "        # determine multiplier\n",
    "        multiplier = 1\n",
    "        if value.endswith(\"k\"):\n",
    "            multiplier = 1000\n",
    "            value = value[0:len(value)-1] # strip multiplier character\n",
    "        elif value.endswith(\"m\"):\n",
    "            multiplier = 1000000\n",
    "            value = value[0:len(value)-1] # strip multiplier character\n",
    "        # convert value to float, multiply, then convert the result to int\n",
    "        return float(value) * multiplier\n",
    "df_gdp[\"gdp_1980\"] = df_gdp[\"gdp_1980\"].apply(convert)\n",
    "df_gdp[\"gdp_2015\"] = df_gdp[\"gdp_2015\"].apply(convert)\n",
    "df_gdp.head(10)\n"
   ]
  },
  {
   "cell_type": "code",
   "execution_count": 10,
   "metadata": {},
   "outputs": [
    {
     "data": {
      "text/html": [
       "<div>\n",
       "<style scoped>\n",
       "    .dataframe tbody tr th:only-of-type {\n",
       "        vertical-align: middle;\n",
       "    }\n",
       "\n",
       "    .dataframe tbody tr th {\n",
       "        vertical-align: top;\n",
       "    }\n",
       "\n",
       "    .dataframe thead th {\n",
       "        text-align: right;\n",
       "    }\n",
       "</style>\n",
       "<table border=\"1\" class=\"dataframe\">\n",
       "  <thead>\n",
       "    <tr style=\"text-align: right;\">\n",
       "      <th></th>\n",
       "      <th>country</th>\n",
       "      <th>gdp_1980</th>\n",
       "      <th>gdp_2015</th>\n",
       "      <th>gdp_change</th>\n",
       "    </tr>\n",
       "  </thead>\n",
       "  <tbody>\n",
       "    <tr>\n",
       "      <th>0</th>\n",
       "      <td>Afghanistan</td>\n",
       "      <td>1170.0</td>\n",
       "      <td>2070.0</td>\n",
       "      <td>900.0</td>\n",
       "    </tr>\n",
       "    <tr>\n",
       "      <th>1</th>\n",
       "      <td>Angola</td>\n",
       "      <td>1760.0</td>\n",
       "      <td>8040.0</td>\n",
       "      <td>6280.0</td>\n",
       "    </tr>\n",
       "    <tr>\n",
       "      <th>2</th>\n",
       "      <td>Albania</td>\n",
       "      <td>4470.0</td>\n",
       "      <td>11900.0</td>\n",
       "      <td>7430.0</td>\n",
       "    </tr>\n",
       "    <tr>\n",
       "      <th>3</th>\n",
       "      <td>Andorra</td>\n",
       "      <td>35800.0</td>\n",
       "      <td>52100.0</td>\n",
       "      <td>16300.0</td>\n",
       "    </tr>\n",
       "    <tr>\n",
       "      <th>4</th>\n",
       "      <td>United Arab Emirates</td>\n",
       "      <td>93500.0</td>\n",
       "      <td>65200.0</td>\n",
       "      <td>-28300.0</td>\n",
       "    </tr>\n",
       "    <tr>\n",
       "      <th>5</th>\n",
       "      <td>Argentina</td>\n",
       "      <td>17000.0</td>\n",
       "      <td>23900.0</td>\n",
       "      <td>6900.0</td>\n",
       "    </tr>\n",
       "    <tr>\n",
       "      <th>6</th>\n",
       "      <td>Armenia</td>\n",
       "      <td>6880.0</td>\n",
       "      <td>11300.0</td>\n",
       "      <td>4420.0</td>\n",
       "    </tr>\n",
       "    <tr>\n",
       "      <th>7</th>\n",
       "      <td>Antigua and Barbuda</td>\n",
       "      <td>7910.0</td>\n",
       "      <td>18600.0</td>\n",
       "      <td>10690.0</td>\n",
       "    </tr>\n",
       "    <tr>\n",
       "      <th>8</th>\n",
       "      <td>Australia</td>\n",
       "      <td>26200.0</td>\n",
       "      <td>47800.0</td>\n",
       "      <td>21600.0</td>\n",
       "    </tr>\n",
       "    <tr>\n",
       "      <th>9</th>\n",
       "      <td>Austria</td>\n",
       "      <td>28800.0</td>\n",
       "      <td>53000.0</td>\n",
       "      <td>24200.0</td>\n",
       "    </tr>\n",
       "  </tbody>\n",
       "</table>\n",
       "</div>"
      ],
      "text/plain": [
       "                country  gdp_1980  gdp_2015  gdp_change\n",
       "0           Afghanistan    1170.0    2070.0       900.0\n",
       "1                Angola    1760.0    8040.0      6280.0\n",
       "2               Albania    4470.0   11900.0      7430.0\n",
       "3               Andorra   35800.0   52100.0     16300.0\n",
       "4  United Arab Emirates   93500.0   65200.0    -28300.0\n",
       "5             Argentina   17000.0   23900.0      6900.0\n",
       "6               Armenia    6880.0   11300.0      4420.0\n",
       "7   Antigua and Barbuda    7910.0   18600.0     10690.0\n",
       "8             Australia   26200.0   47800.0     21600.0\n",
       "9               Austria   28800.0   53000.0     24200.0"
      ]
     },
     "execution_count": 10,
     "metadata": {},
     "output_type": "execute_result"
    }
   ],
   "source": [
    "#Calculate GDP change\n",
    "df_gdp[\"gdp_change\"] = df_gdp[\"gdp_2015\"] - df_gdp[\"gdp_1980\"]\n",
    "df_gdp.head(10)"
   ]
  },
  {
   "cell_type": "code",
   "execution_count": 11,
   "metadata": {},
   "outputs": [
    {
     "name": "stdout",
     "output_type": "stream",
     "text": [
      "<class 'pandas.core.frame.DataFrame'>\n",
      "RangeIndex: 273 entries, 0 to 272\n",
      "Data columns (total 3 columns):\n",
      " #   Column          Non-Null Count  Dtype \n",
      "---  ------          --------------  ----- \n",
      " 0   income_3groups  218 non-null    string\n",
      " 1   country         273 non-null    string\n",
      " 2   world_4region   271 non-null    string\n",
      "dtypes: string(3)\n",
      "memory usage: 6.5 KB\n"
     ]
    }
   ],
   "source": [
    "#Rename and change datatype of df\n",
    "df.rename(columns = {'name': 'country'}, inplace = True)\n",
    "df = df.astype('string')\n",
    "df.info()"
   ]
  },
  {
   "cell_type": "code",
   "execution_count": 12,
   "metadata": {},
   "outputs": [
    {
     "name": "stdout",
     "output_type": "stream",
     "text": [
      "<class 'pandas.core.frame.DataFrame'>\n",
      "RangeIndex: 195 entries, 0 to 194\n",
      "Data columns (total 2 columns):\n",
      " #   Column                Non-Null Count  Dtype  \n",
      "---  ------                --------------  -----  \n",
      " 0   country               195 non-null    string \n",
      " 1   life_expectancy_2015  195 non-null    float64\n",
      "dtypes: float64(1), string(1)\n",
      "memory usage: 3.2 KB\n"
     ]
    }
   ],
   "source": [
    "#Rename and change datatype of df_life\n",
    "df_life['country'] = df_life['country'].astype('string')\n",
    "df_life.rename(columns = {'2015': 'life_expectancy_2015'}, inplace = True)\n",
    "df_life.info()"
   ]
  },
  {
   "cell_type": "code",
   "execution_count": 13,
   "metadata": {},
   "outputs": [
    {
     "name": "stdout",
     "output_type": "stream",
     "text": [
      "<class 'pandas.core.frame.DataFrame'>\n",
      "RangeIndex: 197 entries, 0 to 196\n",
      "Data columns (total 2 columns):\n",
      " #   Column        Non-Null Count  Dtype  \n",
      "---  ------        --------------  -----  \n",
      " 0   country       197 non-null    string \n",
      " 1   service_2015  193 non-null    float64\n",
      "dtypes: float64(1), string(1)\n",
      "memory usage: 3.2 KB\n"
     ]
    }
   ],
   "source": [
    "#Rename and change datatype of df_service\n",
    "df_service.rename(columns = {'2015': 'service_2015'}, inplace = True)\n",
    "df_service['country'] = df_service['country'].astype('string')\n",
    "df_service.info()"
   ]
  },
  {
   "cell_type": "code",
   "execution_count": 14,
   "metadata": {},
   "outputs": [
    {
     "name": "stdout",
     "output_type": "stream",
     "text": [
      "<class 'pandas.core.frame.DataFrame'>\n",
      "RangeIndex: 204 entries, 0 to 203\n",
      "Data columns (total 2 columns):\n",
      " #   Column         Non-Null Count  Dtype  \n",
      "---  ------         --------------  -----  \n",
      " 0   country        204 non-null    string \n",
      " 1   industry_2015  196 non-null    float64\n",
      "dtypes: float64(1), string(1)\n",
      "memory usage: 3.3 KB\n"
     ]
    }
   ],
   "source": [
    "#Rename and change datatype of df_industry\n",
    "df_industry['country'] = df_industry['country'].astype('string')\n",
    "df_industry.rename(columns = {'2015': 'industry_2015'}, inplace = True)\n",
    "df_industry.info()"
   ]
  },
  {
   "cell_type": "code",
   "execution_count": 15,
   "metadata": {},
   "outputs": [
    {
     "name": "stdout",
     "output_type": "stream",
     "text": [
      "<class 'pandas.core.frame.DataFrame'>\n",
      "RangeIndex: 205 entries, 0 to 204\n",
      "Data columns (total 2 columns):\n",
      " #   Column            Non-Null Count  Dtype  \n",
      "---  ------            --------------  -----  \n",
      " 0   country           205 non-null    string \n",
      " 1   agriculture_2015  194 non-null    float64\n",
      "dtypes: float64(1), string(1)\n",
      "memory usage: 3.3 KB\n"
     ]
    }
   ],
   "source": [
    "#Rename and change datatype of df_agri\n",
    "df_agri['country'] = df_agri['country'].astype('string')\n",
    "df_agri.rename(columns = {'2015': 'agriculture_2015'}, inplace = True)\n",
    "df_agri.info()"
   ]
  },
  {
   "cell_type": "code",
   "execution_count": 16,
   "metadata": {},
   "outputs": [
    {
     "name": "stdout",
     "output_type": "stream",
     "text": [
      "<class 'pandas.core.frame.DataFrame'>\n",
      "Int64Index: 183 entries, 0 to 182\n",
      "Data columns (total 10 columns):\n",
      " #   Column                Non-Null Count  Dtype  \n",
      "---  ------                --------------  -----  \n",
      " 0   income_3groups        183 non-null    string \n",
      " 1   country               183 non-null    object \n",
      " 2   world_4region         183 non-null    string \n",
      " 3   life_expectancy_2015  183 non-null    float64\n",
      " 4   service_2015          181 non-null    float64\n",
      " 5   agriculture_2015      181 non-null    float64\n",
      " 6   industry_2015         181 non-null    float64\n",
      " 7   gdp_1980              183 non-null    float64\n",
      " 8   gdp_2015              183 non-null    float64\n",
      " 9   gdp_change            183 non-null    float64\n",
      "dtypes: float64(7), object(1), string(2)\n",
      "memory usage: 15.7+ KB\n"
     ]
    }
   ],
   "source": [
    "#Combine dfs to get 1 consolidated df \n",
    "df_combined = df.merge(df_life, on = 'country').merge(df_service, on = 'country')\n",
    "df_combined_1 = df_combined.merge(df_agri, on = 'country').merge(df_industry, on = 'country')\n",
    "dfs = df_combined_1.merge(df_gdp, on = 'country')\n",
    "dfs.info()"
   ]
  },
  {
   "cell_type": "code",
   "execution_count": 17,
   "metadata": {},
   "outputs": [],
   "source": [
    "#Drop nulll value\n",
    "dfs.dropna(inplace = True)"
   ]
  },
  {
   "cell_type": "markdown",
   "metadata": {},
   "source": [
    "<a id='eda'></a>\n",
    "## Exploratory Data Analysis\n",
    "\n",
    "### Q1: Which region has the highest income per person in 2015? "
   ]
  },
  {
   "cell_type": "code",
   "execution_count": 18,
   "metadata": {
    "scrolled": true
   },
   "outputs": [
    {
     "data": {
      "text/html": [
       "<div>\n",
       "<style scoped>\n",
       "    .dataframe tbody tr th:only-of-type {\n",
       "        vertical-align: middle;\n",
       "    }\n",
       "\n",
       "    .dataframe tbody tr th {\n",
       "        vertical-align: top;\n",
       "    }\n",
       "\n",
       "    .dataframe thead th {\n",
       "        text-align: right;\n",
       "    }\n",
       "</style>\n",
       "<table border=\"1\" class=\"dataframe\">\n",
       "  <thead>\n",
       "    <tr style=\"text-align: right;\">\n",
       "      <th></th>\n",
       "      <th>life_expectancy_2015</th>\n",
       "      <th>service_2015</th>\n",
       "      <th>agriculture_2015</th>\n",
       "      <th>industry_2015</th>\n",
       "      <th>gdp_1980</th>\n",
       "      <th>gdp_2015</th>\n",
       "      <th>gdp_change</th>\n",
       "    </tr>\n",
       "    <tr>\n",
       "      <th>world_4region</th>\n",
       "      <th></th>\n",
       "      <th></th>\n",
       "      <th></th>\n",
       "      <th></th>\n",
       "      <th></th>\n",
       "      <th></th>\n",
       "      <th></th>\n",
       "    </tr>\n",
       "  </thead>\n",
       "  <tbody>\n",
       "    <tr>\n",
       "      <th>africa</th>\n",
       "      <td>63.819608</td>\n",
       "      <td>49.464706</td>\n",
       "      <td>19.335098</td>\n",
       "      <td>23.822745</td>\n",
       "      <td>3267.176471</td>\n",
       "      <td>5652.509804</td>\n",
       "      <td>2385.333333</td>\n",
       "    </tr>\n",
       "    <tr>\n",
       "      <th>americas</th>\n",
       "      <td>74.796970</td>\n",
       "      <td>60.503030</td>\n",
       "      <td>7.124667</td>\n",
       "      <td>23.390909</td>\n",
       "      <td>9926.363636</td>\n",
       "      <td>17457.575758</td>\n",
       "      <td>7531.212121</td>\n",
       "    </tr>\n",
       "    <tr>\n",
       "      <th>asia</th>\n",
       "      <td>72.592453</td>\n",
       "      <td>55.677358</td>\n",
       "      <td>10.437860</td>\n",
       "      <td>28.850377</td>\n",
       "      <td>15832.283019</td>\n",
       "      <td>20753.207547</td>\n",
       "      <td>4920.924528</td>\n",
       "    </tr>\n",
       "    <tr>\n",
       "      <th>europe</th>\n",
       "      <td>78.345455</td>\n",
       "      <td>60.377273</td>\n",
       "      <td>4.312273</td>\n",
       "      <td>23.661364</td>\n",
       "      <td>19029.772727</td>\n",
       "      <td>34884.090909</td>\n",
       "      <td>15854.318182</td>\n",
       "    </tr>\n",
       "  </tbody>\n",
       "</table>\n",
       "</div>"
      ],
      "text/plain": [
       "               life_expectancy_2015  service_2015  agriculture_2015  \\\n",
       "world_4region                                                         \n",
       "africa                    63.819608     49.464706         19.335098   \n",
       "americas                  74.796970     60.503030          7.124667   \n",
       "asia                      72.592453     55.677358         10.437860   \n",
       "europe                    78.345455     60.377273          4.312273   \n",
       "\n",
       "               industry_2015      gdp_1980      gdp_2015    gdp_change  \n",
       "world_4region                                                           \n",
       "africa             23.822745   3267.176471   5652.509804   2385.333333  \n",
       "americas           23.390909   9926.363636  17457.575758   7531.212121  \n",
       "asia               28.850377  15832.283019  20753.207547   4920.924528  \n",
       "europe             23.661364  19029.772727  34884.090909  15854.318182  "
      ]
     },
     "execution_count": 18,
     "metadata": {},
     "output_type": "execute_result"
    }
   ],
   "source": [
    "dfs.groupby('world_4region').mean()"
   ]
  },
  {
   "cell_type": "markdown",
   "metadata": {},
   "source": [
    "### Q2: Which country has change the most in terms of income?"
   ]
  },
  {
   "cell_type": "code",
   "execution_count": 19,
   "metadata": {},
   "outputs": [
    {
     "data": {
      "text/plain": [
       "101"
      ]
     },
     "execution_count": 19,
     "metadata": {},
     "output_type": "execute_result"
    }
   ],
   "source": [
    "dfs['gdp_change'].idxmax()"
   ]
  },
  {
   "cell_type": "code",
   "execution_count": 20,
   "metadata": {},
   "outputs": [
    {
     "data": {
      "text/html": [
       "<div>\n",
       "<style scoped>\n",
       "    .dataframe tbody tr th:only-of-type {\n",
       "        vertical-align: middle;\n",
       "    }\n",
       "\n",
       "    .dataframe tbody tr th {\n",
       "        vertical-align: top;\n",
       "    }\n",
       "\n",
       "    .dataframe thead th {\n",
       "        text-align: right;\n",
       "    }\n",
       "</style>\n",
       "<table border=\"1\" class=\"dataframe\">\n",
       "  <thead>\n",
       "    <tr style=\"text-align: right;\">\n",
       "      <th></th>\n",
       "      <th>income_3groups</th>\n",
       "      <th>country</th>\n",
       "      <th>world_4region</th>\n",
       "      <th>life_expectancy_2015</th>\n",
       "      <th>service_2015</th>\n",
       "      <th>agriculture_2015</th>\n",
       "      <th>industry_2015</th>\n",
       "      <th>gdp_1980</th>\n",
       "      <th>gdp_2015</th>\n",
       "      <th>gdp_change</th>\n",
       "    </tr>\n",
       "  </thead>\n",
       "  <tbody>\n",
       "    <tr>\n",
       "      <th>102</th>\n",
       "      <td>high_income</td>\n",
       "      <td>Latvia</td>\n",
       "      <td>europe</td>\n",
       "      <td>75.1</td>\n",
       "      <td>65.3</td>\n",
       "      <td>3.5</td>\n",
       "      <td>19.1</td>\n",
       "      <td>15400.0</td>\n",
       "      <td>26700.0</td>\n",
       "      <td>11300.0</td>\n",
       "    </tr>\n",
       "  </tbody>\n",
       "</table>\n",
       "</div>"
      ],
      "text/plain": [
       "    income_3groups country world_4region  life_expectancy_2015  service_2015  \\\n",
       "102    high_income  Latvia        europe                  75.1          65.3   \n",
       "\n",
       "     agriculture_2015  industry_2015  gdp_1980  gdp_2015  gdp_change  \n",
       "102               3.5           19.1   15400.0   26700.0     11300.0  "
      ]
     },
     "execution_count": 20,
     "metadata": {},
     "output_type": "execute_result"
    }
   ],
   "source": [
    "dfs[101:102]"
   ]
  },
  {
   "cell_type": "markdown",
   "metadata": {},
   "source": [
    "### Q3: What are the characteristics of high income countries?"
   ]
  },
  {
   "cell_type": "code",
   "execution_count": 21,
   "metadata": {},
   "outputs": [
    {
     "data": {
      "text/html": [
       "<div>\n",
       "<style scoped>\n",
       "    .dataframe tbody tr th:only-of-type {\n",
       "        vertical-align: middle;\n",
       "    }\n",
       "\n",
       "    .dataframe tbody tr th {\n",
       "        vertical-align: top;\n",
       "    }\n",
       "\n",
       "    .dataframe thead th {\n",
       "        text-align: right;\n",
       "    }\n",
       "</style>\n",
       "<table border=\"1\" class=\"dataframe\">\n",
       "  <thead>\n",
       "    <tr style=\"text-align: right;\">\n",
       "      <th></th>\n",
       "      <th>life_expectancy_2015</th>\n",
       "      <th>service_2015</th>\n",
       "      <th>agriculture_2015</th>\n",
       "      <th>industry_2015</th>\n",
       "      <th>gdp_1980</th>\n",
       "      <th>gdp_2015</th>\n",
       "      <th>gdp_change</th>\n",
       "    </tr>\n",
       "  </thead>\n",
       "  <tbody>\n",
       "    <tr>\n",
       "      <th>count</th>\n",
       "      <td>54.000000</td>\n",
       "      <td>54.000000</td>\n",
       "      <td>54.000000</td>\n",
       "      <td>54.000000</td>\n",
       "      <td>54.000000</td>\n",
       "      <td>54.000000</td>\n",
       "      <td>54.000000</td>\n",
       "    </tr>\n",
       "    <tr>\n",
       "      <th>mean</th>\n",
       "      <td>79.194444</td>\n",
       "      <td>64.024074</td>\n",
       "      <td>1.902974</td>\n",
       "      <td>26.037593</td>\n",
       "      <td>27607.777778</td>\n",
       "      <td>44040.740741</td>\n",
       "      <td>16432.962963</td>\n",
       "    </tr>\n",
       "    <tr>\n",
       "      <th>std</th>\n",
       "      <td>3.921947</td>\n",
       "      <td>9.060029</td>\n",
       "      <td>1.316142</td>\n",
       "      <td>12.265805</td>\n",
       "      <td>24017.944680</td>\n",
       "      <td>18875.186052</td>\n",
       "      <td>19771.747962</td>\n",
       "    </tr>\n",
       "    <tr>\n",
       "      <th>min</th>\n",
       "      <td>67.200000</td>\n",
       "      <td>39.400000</td>\n",
       "      <td>0.032600</td>\n",
       "      <td>6.970000</td>\n",
       "      <td>6030.000000</td>\n",
       "      <td>18400.000000</td>\n",
       "      <td>-64900.000000</td>\n",
       "    </tr>\n",
       "    <tr>\n",
       "      <th>25%</th>\n",
       "      <td>76.200000</td>\n",
       "      <td>57.525000</td>\n",
       "      <td>0.931750</td>\n",
       "      <td>19.200000</td>\n",
       "      <td>15425.000000</td>\n",
       "      <td>29450.000000</td>\n",
       "      <td>12050.000000</td>\n",
       "    </tr>\n",
       "    <tr>\n",
       "      <th>50%</th>\n",
       "      <td>80.950000</td>\n",
       "      <td>65.400000</td>\n",
       "      <td>1.795000</td>\n",
       "      <td>23.750000</td>\n",
       "      <td>21900.000000</td>\n",
       "      <td>40150.000000</td>\n",
       "      <td>17550.000000</td>\n",
       "    </tr>\n",
       "    <tr>\n",
       "      <th>75%</th>\n",
       "      <td>82.300000</td>\n",
       "      <td>69.975000</td>\n",
       "      <td>2.620000</td>\n",
       "      <td>30.025000</td>\n",
       "      <td>29475.000000</td>\n",
       "      <td>52625.000000</td>\n",
       "      <td>22125.000000</td>\n",
       "    </tr>\n",
       "    <tr>\n",
       "      <th>max</th>\n",
       "      <td>84.300000</td>\n",
       "      <td>89.800000</td>\n",
       "      <td>6.130000</td>\n",
       "      <td>61.400000</td>\n",
       "      <td>128000.000000</td>\n",
       "      <td>111000.000000</td>\n",
       "      <td>70700.000000</td>\n",
       "    </tr>\n",
       "  </tbody>\n",
       "</table>\n",
       "</div>"
      ],
      "text/plain": [
       "       life_expectancy_2015  service_2015  agriculture_2015  industry_2015  \\\n",
       "count             54.000000     54.000000         54.000000      54.000000   \n",
       "mean              79.194444     64.024074          1.902974      26.037593   \n",
       "std                3.921947      9.060029          1.316142      12.265805   \n",
       "min               67.200000     39.400000          0.032600       6.970000   \n",
       "25%               76.200000     57.525000          0.931750      19.200000   \n",
       "50%               80.950000     65.400000          1.795000      23.750000   \n",
       "75%               82.300000     69.975000          2.620000      30.025000   \n",
       "max               84.300000     89.800000          6.130000      61.400000   \n",
       "\n",
       "            gdp_1980       gdp_2015    gdp_change  \n",
       "count      54.000000      54.000000     54.000000  \n",
       "mean    27607.777778   44040.740741  16432.962963  \n",
       "std     24017.944680   18875.186052  19771.747962  \n",
       "min      6030.000000   18400.000000 -64900.000000  \n",
       "25%     15425.000000   29450.000000  12050.000000  \n",
       "50%     21900.000000   40150.000000  17550.000000  \n",
       "75%     29475.000000   52625.000000  22125.000000  \n",
       "max    128000.000000  111000.000000  70700.000000  "
      ]
     },
     "execution_count": 21,
     "metadata": {},
     "output_type": "execute_result"
    }
   ],
   "source": [
    "df_high_income = dfs.query('income_3groups == \"high_income\"')\n",
    "df_high_income.describe()"
   ]
  },
  {
   "cell_type": "code",
   "execution_count": 22,
   "metadata": {},
   "outputs": [
    {
     "data": {
      "text/plain": [
       "array([[<AxesSubplot:title={'center':'life_expectancy_2015'}>,\n",
       "        <AxesSubplot:title={'center':'service_2015'}>,\n",
       "        <AxesSubplot:title={'center':'agriculture_2015'}>],\n",
       "       [<AxesSubplot:title={'center':'industry_2015'}>,\n",
       "        <AxesSubplot:title={'center':'gdp_1980'}>,\n",
       "        <AxesSubplot:title={'center':'gdp_2015'}>],\n",
       "       [<AxesSubplot:title={'center':'gdp_change'}>, <AxesSubplot:>,\n",
       "        <AxesSubplot:>]], dtype=object)"
      ]
     },
     "execution_count": 22,
     "metadata": {},
     "output_type": "execute_result"
    },
    {
     "data": {
      "image/png": "[encoded data removed]",
      "text/plain": [
       "<Figure size 1440x720 with 9 Axes>"
      ]
     },
     "metadata": {
      "needs_background": "light"
     },
     "output_type": "display_data"
    }
   ],
   "source": [
    "df_high_income.hist(figsize = (20,10) )"
   ]
  },
  {
   "cell_type": "code",
   "execution_count": 23,
   "metadata": {},
   "outputs": [
    {
     "data": {
      "text/html": [
       "<div>\n",
       "<style scoped>\n",
       "    .dataframe tbody tr th:only-of-type {\n",
       "        vertical-align: middle;\n",
       "    }\n",
       "\n",
       "    .dataframe tbody tr th {\n",
       "        vertical-align: top;\n",
       "    }\n",
       "\n",
       "    .dataframe thead th {\n",
       "        text-align: right;\n",
       "    }\n",
       "</style>\n",
       "<table border=\"1\" class=\"dataframe\">\n",
       "  <thead>\n",
       "    <tr style=\"text-align: right;\">\n",
       "      <th></th>\n",
       "      <th>life_expectancy_2015</th>\n",
       "      <th>service_2015</th>\n",
       "      <th>agriculture_2015</th>\n",
       "      <th>industry_2015</th>\n",
       "      <th>gdp_1980</th>\n",
       "      <th>gdp_2015</th>\n",
       "      <th>gdp_change</th>\n",
       "    </tr>\n",
       "  </thead>\n",
       "  <tbody>\n",
       "    <tr>\n",
       "      <th>count</th>\n",
       "      <td>181.000000</td>\n",
       "      <td>181.000000</td>\n",
       "      <td>181.000000</td>\n",
       "      <td>181.000000</td>\n",
       "      <td>181.000000</td>\n",
       "      <td>181.000000</td>\n",
       "      <td>181.000000</td>\n",
       "    </tr>\n",
       "    <tr>\n",
       "      <th>mean</th>\n",
       "      <td>71.920994</td>\n",
       "      <td>55.949171</td>\n",
       "      <td>10.851661</td>\n",
       "      <td>25.176961</td>\n",
       "      <td>11992.359116</td>\n",
       "      <td>19332.585635</td>\n",
       "      <td>7340.226519</td>\n",
       "    </tr>\n",
       "    <tr>\n",
       "      <th>std</th>\n",
       "      <td>7.582231</td>\n",
       "      <td>11.584571</td>\n",
       "      <td>10.691784</td>\n",
       "      <td>10.677607</td>\n",
       "      <td>17172.332979</td>\n",
       "      <td>19906.008256</td>\n",
       "      <td>13157.388251</td>\n",
       "    </tr>\n",
       "    <tr>\n",
       "      <th>min</th>\n",
       "      <td>48.500000</td>\n",
       "      <td>23.400000</td>\n",
       "      <td>0.032600</td>\n",
       "      <td>4.560000</td>\n",
       "      <td>551.000000</td>\n",
       "      <td>825.000000</td>\n",
       "      <td>-64900.000000</td>\n",
       "    </tr>\n",
       "    <tr>\n",
       "      <th>25%</th>\n",
       "      <td>66.400000</td>\n",
       "      <td>48.600000</td>\n",
       "      <td>2.620000</td>\n",
       "      <td>18.100000</td>\n",
       "      <td>2510.000000</td>\n",
       "      <td>4280.000000</td>\n",
       "      <td>1040.000000</td>\n",
       "    </tr>\n",
       "    <tr>\n",
       "      <th>50%</th>\n",
       "      <td>73.200000</td>\n",
       "      <td>55.900000</td>\n",
       "      <td>7.100000</td>\n",
       "      <td>24.300000</td>\n",
       "      <td>5900.000000</td>\n",
       "      <td>11900.000000</td>\n",
       "      <td>4600.000000</td>\n",
       "    </tr>\n",
       "    <tr>\n",
       "      <th>75%</th>\n",
       "      <td>77.400000</td>\n",
       "      <td>62.300000</td>\n",
       "      <td>16.900000</td>\n",
       "      <td>30.200000</td>\n",
       "      <td>14100.000000</td>\n",
       "      <td>27900.000000</td>\n",
       "      <td>12600.000000</td>\n",
       "    </tr>\n",
       "    <tr>\n",
       "      <th>max</th>\n",
       "      <td>84.300000</td>\n",
       "      <td>94.000000</td>\n",
       "      <td>58.700000</td>\n",
       "      <td>61.400000</td>\n",
       "      <td>128000.000000</td>\n",
       "      <td>111000.000000</td>\n",
       "      <td>70700.000000</td>\n",
       "    </tr>\n",
       "  </tbody>\n",
       "</table>\n",
       "</div>"
      ],
      "text/plain": [
       "       life_expectancy_2015  service_2015  agriculture_2015  industry_2015  \\\n",
       "count            181.000000    181.000000        181.000000     181.000000   \n",
       "mean              71.920994     55.949171         10.851661      25.176961   \n",
       "std                7.582231     11.584571         10.691784      10.677607   \n",
       "min               48.500000     23.400000          0.032600       4.560000   \n",
       "25%               66.400000     48.600000          2.620000      18.100000   \n",
       "50%               73.200000     55.900000          7.100000      24.300000   \n",
       "75%               77.400000     62.300000         16.900000      30.200000   \n",
       "max               84.300000     94.000000         58.700000      61.400000   \n",
       "\n",
       "            gdp_1980       gdp_2015    gdp_change  \n",
       "count     181.000000     181.000000    181.000000  \n",
       "mean    11992.359116   19332.585635   7340.226519  \n",
       "std     17172.332979   19906.008256  13157.388251  \n",
       "min       551.000000     825.000000 -64900.000000  \n",
       "25%      2510.000000    4280.000000   1040.000000  \n",
       "50%      5900.000000   11900.000000   4600.000000  \n",
       "75%     14100.000000   27900.000000  12600.000000  \n",
       "max    128000.000000  111000.000000  70700.000000  "
      ]
     },
     "execution_count": 23,
     "metadata": {},
     "output_type": "execute_result"
    }
   ],
   "source": [
    "dfs.describe()"
   ]
  },
  {
   "cell_type": "code",
   "execution_count": 24,
   "metadata": {},
   "outputs": [
    {
     "data": {
      "text/plain": [
       "array([[<AxesSubplot:title={'center':'life_expectancy_2015'}>,\n",
       "        <AxesSubplot:title={'center':'service_2015'}>,\n",
       "        <AxesSubplot:title={'center':'agriculture_2015'}>],\n",
       "       [<AxesSubplot:title={'center':'industry_2015'}>,\n",
       "        <AxesSubplot:title={'center':'gdp_1980'}>,\n",
       "        <AxesSubplot:title={'center':'gdp_2015'}>],\n",
       "       [<AxesSubplot:title={'center':'gdp_change'}>, <AxesSubplot:>,\n",
       "        <AxesSubplot:>]], dtype=object)"
      ]
     },
     "execution_count": 24,
     "metadata": {},
     "output_type": "execute_result"
    },
    {
     "data": {
      "image/png": "[encoded data removed]",
      "text/plain": [
       "<Figure size 1440x720 with 9 Axes>"
      ]
     },
     "metadata": {
      "needs_background": "light"
     },
     "output_type": "display_data"
    }
   ],
   "source": [
    "dfs.hist(figsize = (20,10))"
   ]
  },
  {
   "cell_type": "markdown",
   "metadata": {},
   "source": [
    "### Q4: Do countries with higher income live longer?"
   ]
  },
  {
   "cell_type": "code",
   "execution_count": 25,
   "metadata": {},
   "outputs": [
    {
     "data": {
      "image/png": "[encoded data removed]",
      "text/plain": [
       "<Figure size 432x288 with 1 Axes>"
      ]
     },
     "metadata": {
      "needs_background": "light"
     },
     "output_type": "display_data"
    }
   ],
   "source": [
    "plt.scatter(dfs['gdp_2015'], dfs['life_expectancy_2015'])\n",
    "plt.xscale('log')\n",
    "xlab = 'GDP per Capita (in USD)'\n",
    "ylab = 'Life Expectancy (in years)'\n",
    "title = 'World Development in 2015'\n",
    "plt.xlabel(xlab)\n",
    "plt.ylabel(ylab)\n",
    "plt.title(title)\n",
    "tick_val = [1000, 10000, 100000]\n",
    "tick_lab = ['1k', '10k', '100k']\n",
    "plt.xticks(tick_val,tick_lab)\n",
    "plt.show()"
   ]
  },
  {
   "cell_type": "markdown",
   "metadata": {},
   "source": [
    "### Q5: Do countries with higher income rely more on service?"
   ]
  },
  {
   "cell_type": "code",
   "execution_count": 26,
   "metadata": {},
   "outputs": [
    {
     "data": {
      "image/png": "[encoded data removed]",
      "text/plain": [
       "<Figure size 432x288 with 1 Axes>"
      ]
     },
     "metadata": {
      "needs_background": "light"
     },
     "output_type": "display_data"
    }
   ],
   "source": [
    "plt.scatter(dfs['gdp_2015'], dfs['service_2015'])\n",
    "plt.xscale('log')\n",
    "xlab = 'GDP per Capita (in USD)'\n",
    "ylab = 'Service sector (in percentage)'\n",
    "title = 'Contribution of service sector to GDP (in percentage)'\n",
    "plt.xlabel(xlab)\n",
    "plt.ylabel(ylab)\n",
    "plt.title(title)\n",
    "tick_val = [1000, 10000, 100000]\n",
    "tick_lab = ['1k', '10k', '100k']\n",
    "plt.xticks(tick_val,tick_lab)\n",
    "plt.show()"
   ]
  },
  {
   "cell_type": "markdown",
   "metadata": {},
   "source": [
    "<a id='conclusions'></a>\n",
    "## Conclusions\n",
    "\n",
    "> According to analysis results, we can see that Europe has highest income per capita among 4 world regions, about 34884 dollars in 2015, which is six-time higher than that of Africa(5652 dollars). Europe also has the highest income per capita country in the world: Luxembourg, whose income per person is 111000 dollars in 2015.\n",
    "\n",
    "> We can also see some characteristics of high income countries. Their average age is 79, higher than the world average, 71. Their GDP rely heavily on service, which contributes to 64 percent of GDP on average. On the other hands, agriculture only takes 1 percent in GDP. \n",
    "\n",
    "> There is also positive correlation between GDP per capita and life expectancy. And the more income per person, the more contribution of service to GDP. \n",
    "\n",
    "> The analysis has some limitations on data access. One of the limitation is that there are some countries having no data of analysis attributes. Therefore, they are removed from the analysis, which makes the calculation for the world not entirely accurate."
   ]
  }
 ],
 "metadata": {
  "kernelspec": {
   "display_name": "Python 3 (ipykernel)",
   "language": "python",
   "name": "python3"
  },
  "language_info": {
   "codemirror_mode": {
    "name": "ipython",
    "version": 3
   },
   "file_extension": ".py",
   "mimetype": "text/x-python",
   "name": "python",
   "nbconvert_exporter": "python",
   "pygments_lexer": "ipython3",
   "version": "3.9.7"
  }
 },
 "nbformat": 4,
 "nbformat_minor": 2
}
